{
 "cells": [
  {
   "cell_type": "code",
   "execution_count": 1,
   "id": "a0599e6c",
   "metadata": {},
   "outputs": [],
   "source": [
    "#Exercise 2 - Create a markdown cell with the title of the notebook. (1 pt)"
   ]
  },
  {
   "cell_type": "markdown",
   "id": "828dd6d0",
   "metadata": {},
   "source": [
    "# Coursera Exercise (Tools Data Science)"
   ]
  },
  {
   "cell_type": "code",
   "execution_count": 2,
   "id": "2167c834",
   "metadata": {},
   "outputs": [],
   "source": [
    "#Exercise 3 - Create a markdown cell for an introduction. (1 pt)"
   ]
  },
  {
   "cell_type": "markdown",
   "id": "c45aca6a",
   "metadata": {},
   "source": [
    "This is an introductory aspect of using jupyter notebook for Data Analysis with Python"
   ]
  },
  {
   "cell_type": "code",
   "execution_count": 3,
   "id": "c9f40e31",
   "metadata": {},
   "outputs": [],
   "source": [
    "#Exercise 4 - Create a markdown cell to list data science languages. (3 pts)"
   ]
  },
  {
   "cell_type": "markdown",
   "id": "e462473b",
   "metadata": {},
   "source": [
    "Data Science Languages include \n",
    "   \n",
    "    python\n",
    "    R\n",
    "    Scala\n",
    "    SQL\n",
    "    Java\n",
    "    Julia\n",
    "    MATLAB"
   ]
  },
  {
   "cell_type": "code",
   "execution_count": 8,
   "id": "0cfcb8f7",
   "metadata": {},
   "outputs": [],
   "source": [
    "#Exercise 5 - Create a markdown cell to list data science libraries. (3 pts)"
   ]
  },
  {
   "cell_type": "markdown",
   "id": "412bdb35",
   "metadata": {},
   "source": [
    "Pandas, Numpy, Scipy, Matplotlib, ggplot, plotly, caret, rdply, Scikitlearn, tensorflo"
   ]
  },
  {
   "cell_type": "code",
   "execution_count": 9,
   "id": "039b6731",
   "metadata": {},
   "outputs": [],
   "source": [
    " #Exercise 6 Create a markdown cell with a table of Data Science tools."
   ]
  },
  {
   "cell_type": "markdown",
   "id": "2b608164",
   "metadata": {},
   "source": [
    "| Tool Name | Description |\n",
    "| --- | --- |\n",
    "| Python | A general-purpose programming language widely used in data science |\n",
    "| R | A programming language specifically designed for statistical computing and graphics |\n",
    "| SQL | A language used to manage and manipulate relational databases |\n",
    "| Java | A general-purpose programming language commonly used in big data processing and distributed computing |\n",
    "| Scala | A programming language used for big data processing, machine learning, and data analysis |\n",
    "| MATLAB | A numerical computing environment commonly used in engineering and science fields |\n",
    "| Julia | A high-performance programming language designed for numerical computing, scientific computing, and machine learning |\n"
   ]
  },
  {
   "cell_type": "code",
   "execution_count": 11,
   "id": "c247e909",
   "metadata": {},
   "outputs": [],
   "source": [
    "#Exercise 7 - Create a markdown cell introducing arithmetic expression examples. (1 pt)"
   ]
  },
  {
   "cell_type": "markdown",
   "id": "6fe68405",
   "metadata": {},
   "source": [
    "var1 =(a * b)+ c "
   ]
  },
  {
   "cell_type": "code",
   "execution_count": 13,
   "id": "49a1ea51",
   "metadata": {},
   "outputs": [],
   "source": [
    "#Exercise  - Create a code cell to multiply and add numbers. (2 pts)"
   ]
  },
  {
   "cell_type": "code",
   "execution_count": 16,
   "id": "ca2adb53",
   "metadata": {},
   "outputs": [
    {
     "data": {
      "text/plain": [
       "16"
      ]
     },
     "execution_count": 16,
     "metadata": {},
     "output_type": "execute_result"
    }
   ],
   "source": [
    "a = 2\n",
    "b = 4\n",
    "w = 8\n",
    "var1 =(a * b)+ w\n",
    "\n",
    "var1"
   ]
  },
  {
   "cell_type": "code",
   "execution_count": 17,
   "id": "09827edf",
   "metadata": {},
   "outputs": [],
   "source": [
    "#Exercise 9 - Create a code cell to convert minutes to hours. (2 pts)"
   ]
  },
  {
   "cell_type": "code",
   "execution_count": 18,
   "id": "a1d39414",
   "metadata": {},
   "outputs": [
    {
     "name": "stdout",
     "output_type": "stream",
     "text": [
      "enter time in minutes789\n"
     ]
    },
    {
     "data": {
      "text/plain": [
       "13.15"
      ]
     },
     "execution_count": 18,
     "metadata": {},
     "output_type": "execute_result"
    }
   ],
   "source": [
    "time_min = int(input('enter time in minutes'))\n",
    "time_hr = float(time_min/60 )\n",
    "\n",
    "time_hr"
   ]
  },
  {
   "cell_type": "code",
   "execution_count": 19,
   "id": "6b330067",
   "metadata": {},
   "outputs": [],
   "source": [
    "#Exercise 10 -Insert a markdown cell to list Objectives. (3 pts)"
   ]
  },
  {
   "cell_type": "markdown",
   "id": "5fa72d4a",
   "metadata": {},
   "source": [
    "The Objective of this hands-on exercise is to familiarise the students with Jupyter Notebook interface and build muscle memories "
   ]
  },
  {
   "cell_type": "code",
   "execution_count": null,
   "id": "e791b05b",
   "metadata": {},
   "outputs": [],
   "source": [
    "#Exercise 11 - Create a markdown cell to indicate the Author’s name. (2 pts)"
   ]
  },
  {
   "cell_type": "markdown",
   "id": "660ac8dd",
   "metadata": {},
   "source": [
    "Egbujua Michael Chukwuma"
   ]
  },
  {
   "cell_type": "code",
   "execution_count": null,
   "id": "45b96070",
   "metadata": {},
   "outputs": [],
   "source": []
  }
 ],
 "metadata": {
  "kernelspec": {
   "display_name": "Python 3",
   "language": "python",
   "name": "python3"
  },
  "language_info": {
   "codemirror_mode": {
    "name": "ipython",
    "version": 3
   },
   "file_extension": ".py",
   "mimetype": "text/x-python",
   "name": "python",
   "nbconvert_exporter": "python",
   "pygments_lexer": "ipython3",
   "version": "3.8.8"
  }
 },
 "nbformat": 4,
 "nbformat_minor": 5
}
